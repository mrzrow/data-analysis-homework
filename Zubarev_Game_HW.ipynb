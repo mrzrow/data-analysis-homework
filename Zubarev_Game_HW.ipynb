{
 "cells": [
  {
   "cell_type": "markdown",
   "id": "61b36de1",
   "metadata": {},
   "source": [
    "## Импорты"
   ]
  },
  {
   "cell_type": "code",
   "execution_count": 159,
   "id": "6e80d9c6",
   "metadata": {},
   "outputs": [],
   "source": [
    "import random\n",
    "from collections import deque, Counter\n",
    "import numpy as np\n",
    "import pandas as pd\n",
    "from statsmodels.stats.proportion import proportions_ztest"
   ]
  },
  {
   "cell_type": "markdown",
   "id": "f414ee09",
   "metadata": {},
   "source": [
    "## Константы"
   ]
  },
  {
   "cell_type": "code",
   "execution_count": 160,
   "id": "f7c44aa8",
   "metadata": {},
   "outputs": [],
   "source": [
    "# Типы карт\n",
    "CARD_TYPES = [\n",
    "    'crab', 'ship', 'fish', 'shark', 'swimmer',\n",
    "    'shell', 'octopus', 'penguin', 'sailor'\n",
    "]\n",
    "\n",
    "# Стартовое количество карт\n",
    "STARTING_COUNTS = {\n",
    "    'crab': 9,\n",
    "    'ship': 8,\n",
    "    'fish': 7,\n",
    "    'shark': 5,\n",
    "    'swimmer': 5,\n",
    "    'shell': 6,\n",
    "    'octopus': 5,\n",
    "    'penguin': 3,\n",
    "    'sailor': 2,\n",
    "}\n",
    "\n",
    "# Парные и непарные карты\n",
    "PAIRABLE = {'crab', 'ship', 'fish', 'shark', 'swimmer'}\n",
    "UNPAIRED = {'shell', 'octopus', 'penguin', 'sailor'}\n",
    "\n",
    "# Таблица очков\n",
    "SHELL_SCORES = {1: 0, 2: 2, 3: 4, 4: 6, 5: 8, 6: 10}\n",
    "OCTOPUS_SCORES = {1: 0, 2: 3, 3: 6, 4: 9, 5: 12}\n",
    "PENGUIN_SCORES = {1: 1, 2: 3, 3: 5}\n",
    "SAILOR_SCORES = {1: 0, 2: 5}"
   ]
  },
  {
   "cell_type": "markdown",
   "id": "15ebeb66",
   "metadata": {},
   "source": [
    "## Генерация базовой стратегии"
   ]
  },
  {
   "cell_type": "code",
   "execution_count": 161,
   "id": "b76b46c3",
   "metadata": {},
   "outputs": [],
   "source": [
    "def generate_strategy():\n",
    "    top2 = ['penguin', 'ship']\n",
    "    random.shuffle(top2)\n",
    "    rest = [c for c in CARD_TYPES if c not in top2]\n",
    "    random.shuffle(rest)\n",
    "    return top2 + rest"
   ]
  },
  {
   "cell_type": "markdown",
   "id": "12ba1247",
   "metadata": {},
   "source": [
    "## Генерация альтернативных стратегий"
   ]
  },
  {
   "cell_type": "code",
   "execution_count": 162,
   "id": "431a64a6",
   "metadata": {},
   "outputs": [],
   "source": [
    "def reverse_strategy(strat):\n",
    "    return strat[::-1]\n",
    "\n",
    "def swap_paired_strategy(strat):\n",
    "    new = strat.copy()\n",
    "\n",
    "    paired_top2 = [c for c in new[:2] if c in PAIRABLE]\n",
    "    paired = paired_top2[0]\n",
    "    idx_p = new.index(paired)\n",
    "\n",
    "    indices = [i for i, c in enumerate(new[2:], start=2) if c in PAIRABLE]\n",
    "    i = random.choice(indices)\n",
    "\n",
    "    new[idx_p], new[i] = new[i], new[idx_p]\n",
    "    return new\n",
    "\n",
    "\n",
    "def swap_unpaired_strategy(strat):\n",
    "    new = strat.copy()\n",
    "\n",
    "    unpaired_top2 = [c for c in new[:2] if c in UNPAIRED]\n",
    "    up = unpaired_top2[0]\n",
    "    idx_u = new.index(up)\n",
    "\n",
    "    indices = [i for i,c in enumerate(new[2:], start=2) if c in UNPAIRED]\n",
    "    i = random.choice(indices)\n",
    "\n",
    "    new[idx_u], new[i] = new[i], new[idx_u]\n",
    "    return new"
   ]
  },
  {
   "cell_type": "markdown",
   "id": "24d7afd4",
   "metadata": {},
   "source": [
    "## Подсчет очков в руке"
   ]
  },
  {
   "cell_type": "code",
   "execution_count": 163,
   "id": "94803428",
   "metadata": {},
   "outputs": [],
   "source": [
    "def score_sets(hand):\n",
    "    cnt = Counter(hand)\n",
    "    score = 0\n",
    "    score += SHELL_SCORES.get(cnt.get('shell', 0), 0)\n",
    "    score += OCTOPUS_SCORES.get(cnt.get('octopus', 0), 0)\n",
    "    score += PENGUIN_SCORES.get(cnt.get('penguin', 0), 0)\n",
    "    score += SAILOR_SCORES.get(cnt.get('sailor', 0), 0)\n",
    "    return score"
   ]
  },
  {
   "cell_type": "markdown",
   "id": "b41b3682",
   "metadata": {},
   "source": [
    "## Симуляция раунда"
   ]
  },
  {
   "cell_type": "markdown",
   "id": "f0a23616",
   "metadata": {},
   "source": [
    "### Вспомогательные функции для взятия карт"
   ]
  },
  {
   "cell_type": "code",
   "execution_count": 164,
   "id": "72306439",
   "metadata": {},
   "outputs": [],
   "source": [
    "def get_from_discards(strat, discards):\n",
    "    card = None\n",
    "    for pref in strat:\n",
    "        for p in (0, 1):\n",
    "            if discards[p] and discards[p][-1] == pref:\n",
    "                card = discards[p].pop()\n",
    "                return card\n",
    "    return card\n",
    "\n",
    "def get_from_deck(strat, deck, discards, pick_one=True):\n",
    "    # Если надо взять две карты и в колоде они есть\n",
    "    if (not pick_one) and len(deck) >= 2:\n",
    "        c1 = deck.popleft()\n",
    "        c2 = deck.popleft()\n",
    "        i1 = strat.index(c1)\n",
    "        i2 = strat.index(c2)\n",
    "\n",
    "        # Выбираем карту с большим приоритетом\n",
    "        if i1 < i2:\n",
    "            keep, drop = c1, c2\n",
    "        else:\n",
    "            keep, drop = c2, c1\n",
    "        card = keep\n",
    "\n",
    "        # Вторую карту в случайный сброс\n",
    "        pile = random.choice((0,1))\n",
    "        discards[pile].append(drop)\n",
    "        return card\n",
    "    \n",
    "    # Если одна карта, то берем ее\n",
    "    if deck:\n",
    "        return deck.popleft()\n",
    "    return None\n",
    "\n",
    "\n",
    "def get_card(strat, deck, discards):\n",
    "    # Ищем три приоритетные карты в сбросе\n",
    "    card = get_from_discards(strat[:3], discards)\n",
    "    \n",
    "    # Если не нашли карту в сбросе, берем из колоды\n",
    "    if card is None:\n",
    "        card = get_from_deck(strat, deck, discards, False)\n",
    "    return card"
   ]
  },
  {
   "cell_type": "markdown",
   "id": "d507092c",
   "metadata": {},
   "source": [
    "### Игровой цикл раунда"
   ]
  },
  {
   "cell_type": "code",
   "execution_count": 165,
   "id": "8b17536e",
   "metadata": {},
   "outputs": [],
   "source": [
    "def play_round(strat1, strat2, stop_at_7=True, first_player=0):\n",
    "    # Инициализируем и мешаем колоду\n",
    "    deck = []\n",
    "    for card, cnt in STARTING_COUNTS.items():\n",
    "        deck += [card] * cnt\n",
    "    random.shuffle(deck)\n",
    "    deck = deque(deck)\n",
    "    # Формируем сбрсы\n",
    "    discards = [deque(), deque()]\n",
    "    # Инициализируем руки и сыграные пары\n",
    "    hands = [[], []]\n",
    "    played_pairs = [0, 0]\n",
    "    player = first_player\n",
    "    turns = 0\n",
    "\n",
    "    while True:\n",
    "        turns += 1\n",
    "        # Выбираем стратегию игрока\n",
    "        strat = strat1 if player == 0 else strat2\n",
    "        hand = hands[player]\n",
    "        opp = 1 - player\n",
    "        opp_hand = hands[opp]\n",
    "\n",
    "        # Берем карту\n",
    "        card = get_card(strat, deck, discards)\n",
    "        if card is None:\n",
    "            break\n",
    "        hand.append(card)\n",
    "\n",
    "        # Играем все возможные пары\n",
    "        extra_turn = False\n",
    "        made_pair = True\n",
    "        while made_pair:\n",
    "            made_pair = False\n",
    "            cnt = Counter(hand)\n",
    "\n",
    "            # Пары рыб, кораблей, крабов\n",
    "            for p_card in ('fish', 'ship', 'crab'):\n",
    "                if cnt[p_card] >= 2:\n",
    "                    # Берем две одинакове карты\n",
    "                    hand.remove(p_card)\n",
    "                    hand.remove(p_card)\n",
    "                    played_pairs[player] += 1\n",
    "                    if p_card == 'fish':\n",
    "                        if deck:\n",
    "                            hand.append(deck.popleft())\n",
    "                    elif p_card == 'ship':\n",
    "                        extra_turn = True\n",
    "                    elif p_card == 'crab':\n",
    "                        card = get_from_discards(strat, discards)\n",
    "                        if card:\n",
    "                            hand.append(card)\n",
    "                    made_pair = True\n",
    "                    break\n",
    "            if made_pair:\n",
    "                continue\n",
    "\n",
    "            # Акула и пловец\n",
    "            if cnt['shark'] >= 1 and cnt['swimmer'] >= 1:\n",
    "                hand.remove('shark')\n",
    "                hand.remove('swimmer')\n",
    "                played_pairs[player] += 1\n",
    "                # Воруем случайную карты\n",
    "                if opp_hand:\n",
    "                    stolen = random.choice(opp_hand)\n",
    "                    opp_hand.remove(stolen)\n",
    "                    hand.append(stolen)\n",
    "                made_pair = True\n",
    "\n",
    "        # Проверяем условия окончания раунда\n",
    "        score = played_pairs[player] + score_sets(hand)\n",
    "        if stop_at_7 and score >= 7:\n",
    "            break\n",
    "        if not deck:\n",
    "            break\n",
    "\n",
    "        # Определяем, кто ходит\n",
    "        if extra_turn:\n",
    "            extra_turn = False\n",
    "        else:\n",
    "            player = opp\n",
    "\n",
    "    # Итоговый счет\n",
    "    scores = [played_pairs[i] + score_sets(hands[i]) for i in (0,1)]\n",
    "    return scores, turns"
   ]
  },
  {
   "cell_type": "markdown",
   "id": "fa7be689",
   "metadata": {},
   "source": [
    "## Симуляция игр"
   ]
  },
  {
   "cell_type": "code",
   "execution_count": 166,
   "id": "d698930f",
   "metadata": {},
   "outputs": [],
   "source": [
    "# Симуляция одной игры\n",
    "def simulate_game(strat1, strat2, stop_at_7):\n",
    "    # Раунд 1: Начинает первый игрок\n",
    "    (s11, s12), t1 = play_round(strat1, strat2, stop_at_7, first_player=0)\n",
    "    # Раунд 2: начинает второй игрок\n",
    "    (s21, s22), t2 = play_round(strat1, strat2, stop_at_7, first_player=1)\n",
    "    return s11 + s21, s12 + s22, t1 + t2"
   ]
  },
  {
   "cell_type": "code",
   "execution_count": 167,
   "id": "0ef15b55",
   "metadata": {},
   "outputs": [],
   "source": [
    "def simulate_n_games(strat1, strat2, stop_at_7, n_games):\n",
    "    scores_1 = []\n",
    "    scores_2 = []\n",
    "    turns = []\n",
    "    for _ in range(n_games):\n",
    "        score1, score2, t = simulate_game(strat1, strat2, stop_at_7)\n",
    "        turns.append(t)\n",
    "        scores_1.append(score1)\n",
    "        scores_2.append(score2)\n",
    "\n",
    "    return scores_1, scores_2, turns"
   ]
  },
  {
   "cell_type": "code",
   "execution_count": 168,
   "id": "0092b21a",
   "metadata": {},
   "outputs": [],
   "source": [
    "def simulate_all_strats(base, opps, n_games):\n",
    "    results = {}\n",
    "    for name, opp in opps.items():\n",
    "        for rule in ('stop_at_7', 'all_cards'):\n",
    "            stop_at_7 = (rule == 'stop_at_7')\n",
    "            sc1, sc2, turns = simulate_n_games(base, opp, stop_at_7, n_games)\n",
    "            results[(name, rule)] = {\n",
    "                'score': sc1,\n",
    "                'opp_score': sc2,\n",
    "                'turns': turns\n",
    "            } \n",
    "    return pd.DataFrame(results).T"
   ]
  },
  {
   "cell_type": "code",
   "execution_count": 169,
   "id": "1b474e09",
   "metadata": {},
   "outputs": [],
   "source": [
    "# устанавливаем сид и выбираем стратегии\n",
    "np.random.seed(150)\n",
    "base = generate_strategy()\n",
    "opps = {\n",
    "    'reverse': reverse_strategy(base),\n",
    "    'swap_paired' : swap_paired_strategy(base),\n",
    "    'swap_unpaired': swap_unpaired_strategy(base)\n",
    "}\n",
    "# генерируем выборки\n",
    "all_strats = simulate_all_strats(base, opps, 50000)"
   ]
  },
  {
   "cell_type": "markdown",
   "id": "9331581d",
   "metadata": {},
   "source": [
    "## Промежуточные результаты"
   ]
  },
  {
   "cell_type": "code",
   "execution_count": 170,
   "id": "228be93e",
   "metadata": {},
   "outputs": [],
   "source": [
    "def calculate_winrate(scores_1, scores_2):\n",
    "    wins = [int(s1 > s2) for s1, s2 in zip(scores_1, scores_2) if s1 != s2]\n",
    "    win_rate = 0\n",
    "    if len(wins) > 0:\n",
    "        win_rate = sum(wins) / len(wins)\n",
    "    return win_rate"
   ]
  },
  {
   "cell_type": "code",
   "execution_count": 171,
   "id": "9172dae2",
   "metadata": {},
   "outputs": [],
   "source": [
    "def simulate_all_strats(opps, all_strats):\n",
    "    results = {}\n",
    "    for name in opps.keys():\n",
    "        for rule in ('stop_at_7', 'all_cards'):\n",
    "            sc1 = all_strats.loc[(name, rule), 'score']\n",
    "            sc2 = all_strats.loc[(name, rule), 'opp_score']\n",
    "            turns = all_strats.loc[(name, rule), 'turns']\n",
    "            win_rate = calculate_winrate(sc1, sc2)\n",
    "            results[(name, rule)] = {\n",
    "                'win_rate': win_rate,\n",
    "                'avg_turns': sum(turns) / len(turns)\n",
    "            } \n",
    "    return pd.DataFrame(results).T"
   ]
  },
  {
   "cell_type": "code",
   "execution_count": 172,
   "id": "ea6f4b5c",
   "metadata": {},
   "outputs": [
    {
     "data": {
      "text/html": [
       "<div>\n",
       "<style scoped>\n",
       "    .dataframe tbody tr th:only-of-type {\n",
       "        vertical-align: middle;\n",
       "    }\n",
       "\n",
       "    .dataframe tbody tr th {\n",
       "        vertical-align: top;\n",
       "    }\n",
       "\n",
       "    .dataframe thead th {\n",
       "        text-align: right;\n",
       "    }\n",
       "</style>\n",
       "<table border=\"1\" class=\"dataframe\">\n",
       "  <thead>\n",
       "    <tr style=\"text-align: right;\">\n",
       "      <th></th>\n",
       "      <th></th>\n",
       "      <th>win_rate</th>\n",
       "      <th>avg_turns</th>\n",
       "    </tr>\n",
       "  </thead>\n",
       "  <tbody>\n",
       "    <tr>\n",
       "      <th rowspan=\"2\" valign=\"top\">reverse</th>\n",
       "      <th>stop_at_7</th>\n",
       "      <td>0.211815</td>\n",
       "      <td>36.73594</td>\n",
       "    </tr>\n",
       "    <tr>\n",
       "      <th>all_cards</th>\n",
       "      <td>0.044634</td>\n",
       "      <td>75.46500</td>\n",
       "    </tr>\n",
       "    <tr>\n",
       "      <th rowspan=\"2\" valign=\"top\">swap_paired</th>\n",
       "      <th>stop_at_7</th>\n",
       "      <td>0.468177</td>\n",
       "      <td>41.55252</td>\n",
       "    </tr>\n",
       "    <tr>\n",
       "      <th>all_cards</th>\n",
       "      <td>0.467659</td>\n",
       "      <td>59.47052</td>\n",
       "    </tr>\n",
       "    <tr>\n",
       "      <th rowspan=\"2\" valign=\"top\">swap_unpaired</th>\n",
       "      <th>stop_at_7</th>\n",
       "      <td>0.492868</td>\n",
       "      <td>41.01638</td>\n",
       "    </tr>\n",
       "    <tr>\n",
       "      <th>all_cards</th>\n",
       "      <td>0.478406</td>\n",
       "      <td>55.73716</td>\n",
       "    </tr>\n",
       "  </tbody>\n",
       "</table>\n",
       "</div>"
      ],
      "text/plain": [
       "                         win_rate  avg_turns\n",
       "reverse       stop_at_7  0.211815   36.73594\n",
       "              all_cards  0.044634   75.46500\n",
       "swap_paired   stop_at_7  0.468177   41.55252\n",
       "              all_cards  0.467659   59.47052\n",
       "swap_unpaired stop_at_7  0.492868   41.01638\n",
       "              all_cards  0.478406   55.73716"
      ]
     },
     "execution_count": 172,
     "metadata": {},
     "output_type": "execute_result"
    }
   ],
   "source": [
    "simulate_all_strats(opps, all_strats)"
   ]
  },
  {
   "cell_type": "markdown",
   "id": "07ee72d7",
   "metadata": {},
   "source": [
    "## Проверка гипотез"
   ]
  },
  {
   "cell_type": "markdown",
   "id": "7162458b",
   "metadata": {},
   "source": [
    "Поскольку данные **не** распределены нормально, и есть только два исхода (не считаем ничьи), я воспользовался Z-тестом."
   ]
  },
  {
   "cell_type": "code",
   "execution_count": 173,
   "id": "40d7afc7",
   "metadata": {},
   "outputs": [],
   "source": [
    "def calculate_stat(scores1, scores2):\n",
    "    wins = [bool(s1 > s2) for s1, s2 in zip(scores1, scores2) if s1 != s2]\n",
    "    stat, pval = proportions_ztest(sum(wins), len(wins), value=0.5)\n",
    "    return stat, pval"
   ]
  },
  {
   "cell_type": "code",
   "execution_count": 174,
   "id": "bff45707",
   "metadata": {},
   "outputs": [],
   "source": [
    "def calculate_stat_all_strats(opps, all_strats):\n",
    "    results = {}\n",
    "    for name in opps.keys():\n",
    "        for rule in ('stop_at_7', 'all_cards'):\n",
    "            sc1 = all_strats.loc[(name, rule), 'score']\n",
    "            sc2 = all_strats.loc[(name, rule), 'opp_score']\n",
    "            turns = all_strats.loc[(name, rule), 'turns']\n",
    "            win_rate = calculate_winrate(sc1, sc2)\n",
    "            stat, pval = calculate_stat(sc1, sc2)\n",
    "            results[(name, rule)] = {\n",
    "                'win_rate': win_rate,\n",
    "                'avg_turns': sum(turns) / len(turns),\n",
    "                'stat': stat,\n",
    "                'pval': pval,\n",
    "                'result': pval > 0.05\n",
    "            } \n",
    "    return pd.DataFrame(results).T"
   ]
  },
  {
   "cell_type": "code",
   "execution_count": 175,
   "id": "fa940c33",
   "metadata": {},
   "outputs": [
    {
     "data": {
      "text/html": [
       "<div>\n",
       "<style scoped>\n",
       "    .dataframe tbody tr th:only-of-type {\n",
       "        vertical-align: middle;\n",
       "    }\n",
       "\n",
       "    .dataframe tbody tr th {\n",
       "        vertical-align: top;\n",
       "    }\n",
       "\n",
       "    .dataframe thead th {\n",
       "        text-align: right;\n",
       "    }\n",
       "</style>\n",
       "<table border=\"1\" class=\"dataframe\">\n",
       "  <thead>\n",
       "    <tr style=\"text-align: right;\">\n",
       "      <th></th>\n",
       "      <th></th>\n",
       "      <th>win_rate</th>\n",
       "      <th>avg_turns</th>\n",
       "      <th>stat</th>\n",
       "      <th>pval</th>\n",
       "      <th>result</th>\n",
       "    </tr>\n",
       "  </thead>\n",
       "  <tbody>\n",
       "    <tr>\n",
       "      <th rowspan=\"2\" valign=\"top\">reverse</th>\n",
       "      <th>stop_at_7</th>\n",
       "      <td>0.211815</td>\n",
       "      <td>36.73594</td>\n",
       "      <td>-152.835332</td>\n",
       "      <td>0.0</td>\n",
       "      <td>False</td>\n",
       "    </tr>\n",
       "    <tr>\n",
       "      <th>all_cards</th>\n",
       "      <td>0.044634</td>\n",
       "      <td>75.465</td>\n",
       "      <td>-487.790436</td>\n",
       "      <td>0.0</td>\n",
       "      <td>False</td>\n",
       "    </tr>\n",
       "    <tr>\n",
       "      <th rowspan=\"2\" valign=\"top\">swap_paired</th>\n",
       "      <th>stop_at_7</th>\n",
       "      <td>0.468177</td>\n",
       "      <td>41.55252</td>\n",
       "      <td>-13.646275</td>\n",
       "      <td>0.0</td>\n",
       "      <td>False</td>\n",
       "    </tr>\n",
       "    <tr>\n",
       "      <th>all_cards</th>\n",
       "      <td>0.467659</td>\n",
       "      <td>59.47052</td>\n",
       "      <td>-14.00333</td>\n",
       "      <td>0.0</td>\n",
       "      <td>False</td>\n",
       "    </tr>\n",
       "    <tr>\n",
       "      <th rowspan=\"2\" valign=\"top\">swap_unpaired</th>\n",
       "      <th>stop_at_7</th>\n",
       "      <td>0.492868</td>\n",
       "      <td>41.01638</td>\n",
       "      <td>-3.063993</td>\n",
       "      <td>0.002184</td>\n",
       "      <td>False</td>\n",
       "    </tr>\n",
       "    <tr>\n",
       "      <th>all_cards</th>\n",
       "      <td>0.478406</td>\n",
       "      <td>55.73716</td>\n",
       "      <td>-9.34431</td>\n",
       "      <td>0.0</td>\n",
       "      <td>False</td>\n",
       "    </tr>\n",
       "  </tbody>\n",
       "</table>\n",
       "</div>"
      ],
      "text/plain": [
       "                         win_rate avg_turns        stat      pval result\n",
       "reverse       stop_at_7  0.211815  36.73594 -152.835332       0.0  False\n",
       "              all_cards  0.044634    75.465 -487.790436       0.0  False\n",
       "swap_paired   stop_at_7  0.468177  41.55252  -13.646275       0.0  False\n",
       "              all_cards  0.467659  59.47052   -14.00333       0.0  False\n",
       "swap_unpaired stop_at_7  0.492868  41.01638   -3.063993  0.002184  False\n",
       "              all_cards  0.478406  55.73716    -9.34431       0.0  False"
      ]
     },
     "execution_count": 175,
     "metadata": {},
     "output_type": "execute_result"
    }
   ],
   "source": [
    "calculate_stat_all_strats(opps, all_strats)"
   ]
  },
  {
   "cell_type": "markdown",
   "id": "68dfb82b",
   "metadata": {},
   "source": [
    "## Бутстрап"
   ]
  },
  {
   "cell_type": "code",
   "execution_count": 176,
   "id": "53d4e06a",
   "metadata": {},
   "outputs": [],
   "source": [
    "def bootstrap_turns(turns, n_boot=10000, alpha=0.05):\n",
    "    arr = np.array(turns)\n",
    "    boot = []\n",
    "    for _ in range(n_boot):\n",
    "        samp = np.random.choice(arr, len(arr), True) \n",
    "        boot.append(np.median(samp))\n",
    "    lower = np.percentile(boot, 100 * alpha / 2)\n",
    "    upper = np.percentile(boot, 100 * (1 - alpha / 2))\n",
    "    return lower, upper"
   ]
  },
  {
   "cell_type": "code",
   "execution_count": 177,
   "id": "efa1a62e",
   "metadata": {},
   "outputs": [],
   "source": [
    "def bootstrap_turns_all_strats(opps, all_strats):\n",
    "    results = {}\n",
    "    for name in opps.keys():\n",
    "        for rule in ('stop_at_7', 'all_cards'):\n",
    "            turns = all_strats.loc[(name, rule), 'turns']\n",
    "            lower, upper = bootstrap_turns(turns)\n",
    "            results[(name, rule)] = {\n",
    "                'lower_bound': lower,\n",
    "                'upper_bound': upper\n",
    "            } \n",
    "    return pd.DataFrame(results).T"
   ]
  },
  {
   "cell_type": "code",
   "execution_count": 178,
   "id": "e5bc8794",
   "metadata": {},
   "outputs": [
    {
     "data": {
      "text/html": [
       "<div>\n",
       "<style scoped>\n",
       "    .dataframe tbody tr th:only-of-type {\n",
       "        vertical-align: middle;\n",
       "    }\n",
       "\n",
       "    .dataframe tbody tr th {\n",
       "        vertical-align: top;\n",
       "    }\n",
       "\n",
       "    .dataframe thead th {\n",
       "        text-align: right;\n",
       "    }\n",
       "</style>\n",
       "<table border=\"1\" class=\"dataframe\">\n",
       "  <thead>\n",
       "    <tr style=\"text-align: right;\">\n",
       "      <th></th>\n",
       "      <th></th>\n",
       "      <th>lower_bound</th>\n",
       "      <th>upper_bound</th>\n",
       "    </tr>\n",
       "  </thead>\n",
       "  <tbody>\n",
       "    <tr>\n",
       "      <th rowspan=\"2\" valign=\"top\">reverse</th>\n",
       "      <th>stop_at_7</th>\n",
       "      <td>37.0</td>\n",
       "      <td>37.0</td>\n",
       "    </tr>\n",
       "    <tr>\n",
       "      <th>all_cards</th>\n",
       "      <td>75.0</td>\n",
       "      <td>76.0</td>\n",
       "    </tr>\n",
       "    <tr>\n",
       "      <th rowspan=\"2\" valign=\"top\">swap_paired</th>\n",
       "      <th>stop_at_7</th>\n",
       "      <td>42.0</td>\n",
       "      <td>42.0</td>\n",
       "    </tr>\n",
       "    <tr>\n",
       "      <th>all_cards</th>\n",
       "      <td>59.0</td>\n",
       "      <td>59.0</td>\n",
       "    </tr>\n",
       "    <tr>\n",
       "      <th rowspan=\"2\" valign=\"top\">swap_unpaired</th>\n",
       "      <th>stop_at_7</th>\n",
       "      <td>41.0</td>\n",
       "      <td>41.0</td>\n",
       "    </tr>\n",
       "    <tr>\n",
       "      <th>all_cards</th>\n",
       "      <td>56.0</td>\n",
       "      <td>56.0</td>\n",
       "    </tr>\n",
       "  </tbody>\n",
       "</table>\n",
       "</div>"
      ],
      "text/plain": [
       "                         lower_bound  upper_bound\n",
       "reverse       stop_at_7         37.0         37.0\n",
       "              all_cards         75.0         76.0\n",
       "swap_paired   stop_at_7         42.0         42.0\n",
       "              all_cards         59.0         59.0\n",
       "swap_unpaired stop_at_7         41.0         41.0\n",
       "              all_cards         56.0         56.0"
      ]
     },
     "execution_count": 178,
     "metadata": {},
     "output_type": "execute_result"
    }
   ],
   "source": [
    "bootstrap_turns_all_strats(opps, all_strats)"
   ]
  }
 ],
 "metadata": {
  "kernelspec": {
   "display_name": "venv",
   "language": "python",
   "name": "python3"
  },
  "language_info": {
   "codemirror_mode": {
    "name": "ipython",
    "version": 3
   },
   "file_extension": ".py",
   "mimetype": "text/x-python",
   "name": "python",
   "nbconvert_exporter": "python",
   "pygments_lexer": "ipython3",
   "version": "3.10.2"
  }
 },
 "nbformat": 4,
 "nbformat_minor": 5
}
