{
 "cells": [
  {
   "cell_type": "markdown",
   "id": "61b36de1",
   "metadata": {},
   "source": [
    "## Импорты"
   ]
  },
  {
   "cell_type": "code",
   "execution_count": 1,
   "id": "6e80d9c6",
   "metadata": {},
   "outputs": [],
   "source": [
    "import random\n",
    "from collections import deque, Counter\n",
    "import numpy as np\n",
    "import pandas as pd\n",
    "from statsmodels.stats.proportion import proportions_ztest"
   ]
  },
  {
   "cell_type": "markdown",
   "id": "f414ee09",
   "metadata": {},
   "source": [
    "## Константы"
   ]
  },
  {
   "cell_type": "code",
   "execution_count": 2,
   "id": "f7c44aa8",
   "metadata": {},
   "outputs": [],
   "source": [
    "# Типы карт\n",
    "CARD_TYPES = [\n",
    "    'crab', 'ship', 'fish', 'shark', 'swimmer',\n",
    "    'shell', 'octopus', 'penguin', 'sailor'\n",
    "]\n",
    "\n",
    "# Стартовое количество карт\n",
    "STARTING_COUNTS = {\n",
    "    'crab': 9,\n",
    "    'ship': 8,\n",
    "    'fish': 7,\n",
    "    'shark': 5,\n",
    "    'swimmer': 5,\n",
    "    'shell': 6,\n",
    "    'octopus': 5,\n",
    "    'penguin': 3,\n",
    "    'sailor': 2,\n",
    "}\n",
    "\n",
    "# Парные и непарные карты\n",
    "PAIRABLE = {'crab', 'ship', 'fish', 'shark', 'swimmer'}\n",
    "UNPAIRED = {'shell', 'octopus', 'penguin', 'sailor'}\n",
    "\n",
    "# Таблица очков\n",
    "SHELL_SCORES = {1: 0, 2: 2, 3: 4, 4: 6, 5: 8, 6: 10}\n",
    "OCTOPUS_SCORES = {1: 0, 2: 3, 3: 6, 4: 9, 5: 12}\n",
    "PENGUIN_SCORES = {1: 1, 2: 3, 3: 5}\n",
    "SAILOR_SCORES = {1: 0, 2: 5}"
   ]
  },
  {
   "cell_type": "markdown",
   "id": "15ebeb66",
   "metadata": {},
   "source": [
    "## Генерация базовой стратегии"
   ]
  },
  {
   "cell_type": "code",
   "execution_count": 3,
   "id": "b76b46c3",
   "metadata": {},
   "outputs": [],
   "source": [
    "def generate_strategy():\n",
    "    top2 = ['penguin', 'ship']\n",
    "    random.shuffle(top2)\n",
    "    rest = [c for c in CARD_TYPES if c not in top2]\n",
    "    random.shuffle(rest)\n",
    "    return top2 + rest"
   ]
  },
  {
   "cell_type": "markdown",
   "id": "12ba1247",
   "metadata": {},
   "source": [
    "## Генерация альтернативных стратегий"
   ]
  },
  {
   "cell_type": "code",
   "execution_count": 4,
   "id": "431a64a6",
   "metadata": {},
   "outputs": [],
   "source": [
    "def reverse_strategy(strat):\n",
    "    return strat[::-1]\n",
    "\n",
    "def swap_paired_strategy(strat):\n",
    "    new = strat.copy()\n",
    "\n",
    "    paired_top2 = [c for c in new[:2] if c in PAIRABLE]\n",
    "    paired = paired_top2[0]\n",
    "    idx_p = new.index(paired)\n",
    "\n",
    "    indices = [i for i, c in enumerate(new[2:], start=2) if c in PAIRABLE]\n",
    "    i = random.choice(indices)\n",
    "\n",
    "    new[idx_p], new[i] = new[i], new[idx_p]\n",
    "    return new\n",
    "\n",
    "\n",
    "def swap_unpaired_strategy(strat):\n",
    "    new = strat.copy()\n",
    "\n",
    "    unpaired_top2 = [c for c in new[:2] if c in UNPAIRED]\n",
    "    up = unpaired_top2[0]\n",
    "    idx_u = new.index(up)\n",
    "\n",
    "    indices = [i for i,c in enumerate(new[2:], start=2) if c in UNPAIRED]\n",
    "    i = random.choice(indices)\n",
    "\n",
    "    new[idx_u], new[i] = new[i], new[idx_u]\n",
    "    return new"
   ]
  },
  {
   "cell_type": "markdown",
   "id": "24d7afd4",
   "metadata": {},
   "source": [
    "## Подсчет очков в руке"
   ]
  },
  {
   "cell_type": "code",
   "execution_count": 5,
   "id": "94803428",
   "metadata": {},
   "outputs": [],
   "source": [
    "def score_sets(hand):\n",
    "    cnt = Counter(hand)\n",
    "    score = 0\n",
    "    score += SHELL_SCORES.get(cnt.get('shell', 0), 0)\n",
    "    score += OCTOPUS_SCORES.get(cnt.get('octopus', 0), 0)\n",
    "    score += PENGUIN_SCORES.get(cnt.get('penguin', 0), 0)\n",
    "    score += SAILOR_SCORES.get(cnt.get('sailor', 0), 0)\n",
    "    return score"
   ]
  },
  {
   "cell_type": "markdown",
   "id": "b41b3682",
   "metadata": {},
   "source": [
    "## Симуляция раунда"
   ]
  },
  {
   "cell_type": "markdown",
   "id": "f0a23616",
   "metadata": {},
   "source": [
    "### Вспомогательные функции для взятия карт"
   ]
  },
  {
   "cell_type": "code",
   "execution_count": 6,
   "id": "72306439",
   "metadata": {},
   "outputs": [],
   "source": [
    "def get_from_discards(strat, discards):\n",
    "    card = None\n",
    "    for pref in strat:\n",
    "        for p in (0, 1):\n",
    "            if discards[p] and discards[p][-1] == pref:\n",
    "                card = discards[p].pop()\n",
    "                return card\n",
    "    return card\n",
    "\n",
    "def get_from_deck(strat, deck, discards, pick_one=True):\n",
    "    # Если надо взять две карты и в колоде они есть\n",
    "    if (not pick_one) and len(deck) >= 2:\n",
    "        c1 = deck.popleft()\n",
    "        c2 = deck.popleft()\n",
    "        i1 = strat.index(c1)\n",
    "        i2 = strat.index(c2)\n",
    "\n",
    "        # Выбираем карту с большим приоритетом\n",
    "        if i1 < i2:\n",
    "            keep, drop = c1, c2\n",
    "        else:\n",
    "            keep, drop = c2, c1\n",
    "        card = keep\n",
    "\n",
    "        # Вторую карту в случайный сброс\n",
    "        pile = random.choice((0,1))\n",
    "        discards[pile].append(drop)\n",
    "        return card\n",
    "    \n",
    "    # Если одна карта, то берем ее\n",
    "    if deck:\n",
    "        return deck.popleft()\n",
    "    return None\n",
    "\n",
    "\n",
    "def get_card(strat, deck, discards):\n",
    "    # Ищем три приоритетные карты в сбросе\n",
    "    card = get_from_discards(strat[:3], discards)\n",
    "    \n",
    "    # Если не нашли карту в сбросе, берем из колоды\n",
    "    if card is None:\n",
    "        card = get_from_deck(strat, deck, discards, False)\n",
    "    return card"
   ]
  },
  {
   "cell_type": "markdown",
   "id": "d507092c",
   "metadata": {},
   "source": [
    "### Игровой цикл раунда"
   ]
  },
  {
   "cell_type": "code",
   "execution_count": 7,
   "id": "8b17536e",
   "metadata": {},
   "outputs": [],
   "source": [
    "def play_round(strat1, strat2, stop_at_7=True, first_player=0):\n",
    "    # Инициализируем и мешаем колоду\n",
    "    deck = []\n",
    "    for card, cnt in STARTING_COUNTS.items():\n",
    "        deck += [card] * cnt\n",
    "    random.shuffle(deck)\n",
    "    deck = deque(deck)\n",
    "    # Формируем сбрсы\n",
    "    discards = [deque(), deque()]\n",
    "    # Инициализируем руки и сыграные пары\n",
    "    hands = [[], []]\n",
    "    played_pairs = [0, 0]\n",
    "    player = first_player\n",
    "    turns = 0\n",
    "\n",
    "    while True:\n",
    "        turns += 1\n",
    "        # Выбираем стратегию игрока\n",
    "        strat = strat1 if player == 0 else strat2\n",
    "        hand = hands[player]\n",
    "        opp = 1 - player\n",
    "        opp_hand = hands[opp]\n",
    "\n",
    "        # Берем карту\n",
    "        card = get_card(strat, deck, discards)\n",
    "        if card is None:\n",
    "            break\n",
    "        hand.append(card)\n",
    "\n",
    "        # Играем все возможные пары\n",
    "        extra_turn = False\n",
    "        made_pair = True\n",
    "        while made_pair:\n",
    "            made_pair = False\n",
    "            cnt = Counter(hand)\n",
    "\n",
    "            # Пары рыб, кораблей, крабов\n",
    "            for p_card in ('fish', 'ship', 'crab'):\n",
    "                if cnt[p_card] >= 2:\n",
    "                    # Берем две одинакове карты\n",
    "                    hand.remove(p_card)\n",
    "                    hand.remove(p_card)\n",
    "                    played_pairs[player] += 1\n",
    "                    if p_card == 'fish':\n",
    "                        if deck:\n",
    "                            hand.append(deck.popleft())\n",
    "                    elif p_card == 'ship':\n",
    "                        extra_turn = True\n",
    "                    elif p_card == 'crab':\n",
    "                        card = get_from_discards(strat, discards)\n",
    "                        if card:\n",
    "                            hand.append(card)\n",
    "                    made_pair = True\n",
    "                    break\n",
    "            if made_pair:\n",
    "                continue\n",
    "\n",
    "            # Акула и пловец\n",
    "            if cnt['shark'] >= 1 and cnt['swimmer'] >= 1:\n",
    "                hand.remove('shark')\n",
    "                hand.remove('swimmer')\n",
    "                played_pairs[player] += 1\n",
    "                # Воруем случайную карты\n",
    "                if opp_hand:\n",
    "                    stolen = random.choice(opp_hand)\n",
    "                    opp_hand.remove(stolen)\n",
    "                    hand.append(stolen)\n",
    "                made_pair = True\n",
    "\n",
    "        # Проверяем условия окончания раунда\n",
    "        score = played_pairs[player] + score_sets(hand)\n",
    "        if stop_at_7 and score >= 7:\n",
    "            break\n",
    "        if not deck:\n",
    "            break\n",
    "\n",
    "        # Определяем, кто ходит\n",
    "        if extra_turn:\n",
    "            extra_turn = False\n",
    "        else:\n",
    "            player = opp\n",
    "\n",
    "    # Итоговый счет\n",
    "    scores = [played_pairs[i] + score_sets(hands[i]) for i in (0,1)]\n",
    "    return scores, turns"
   ]
  },
  {
   "cell_type": "markdown",
   "id": "fa7be689",
   "metadata": {},
   "source": [
    "## Симуляция игр"
   ]
  },
  {
   "cell_type": "code",
   "execution_count": 8,
   "id": "d698930f",
   "metadata": {},
   "outputs": [],
   "source": [
    "# Симуляция одной игры\n",
    "def simulate_game(strat1, strat2, stop_at_7=True):\n",
    "    # Раунд 1: Начинает первый игрок\n",
    "    s1, t1 = play_round(strat1, strat2, stop_at_7, first_player=0)\n",
    "    # Раунд 2: начинает второй игрок\n",
    "    s2, t2 = play_round(strat1, strat2, stop_at_7, first_player=1)\n",
    "    return (s1, s2), (t1, t2)"
   ]
  },
  {
   "cell_type": "markdown",
   "id": "9331581d",
   "metadata": {},
   "source": [
    "## Результаты"
   ]
  },
  {
   "cell_type": "code",
   "execution_count": 20,
   "id": "f84eb752",
   "metadata": {},
   "outputs": [
    {
     "name": "stdout",
     "output_type": "stream",
     "text": [
      "Game simulation results:\n",
      "                         win_rate  avg_turns\n",
      "reverse       stop_at_7     0.571     35.333\n",
      "              full_deck     0.567     75.683\n",
      "swap_paired   stop_at_7     0.584     43.340\n",
      "              full_deck     0.543     53.341\n",
      "swap_unpaired stop_at_7     0.575     38.351\n",
      "              full_deck     0.567     58.822\n"
     ]
    }
   ],
   "source": [
    "def get_results(n_games=1000):\n",
    "    base = generate_strategy()\n",
    "    opponents = {\n",
    "        'reverse': reverse_strategy(base),\n",
    "        'swap_paired': swap_paired_strategy(base),\n",
    "        'swap_unpaired': swap_unpaired_strategy(base)\n",
    "    }\n",
    "    result = {}\n",
    "    for name, strat in opponents.items():\n",
    "        for rule in 'stop_at_7', 'full_deck':\n",
    "            stop_at_7 = rule == 'stop_at_7'\n",
    "            win = 0\n",
    "            turns = 0\n",
    "            for _ in range(n_games):\n",
    "                (s1, s2), (t1, t2) = simulate_game(base, strat, stop_at_7)\n",
    "                turns += t1 + t2\n",
    "                if s1 > s2:\n",
    "                    win += 1\n",
    "            result[(name, rule)] = {\n",
    "                'win_rate': win / n_games,\n",
    "                'avg_turns': turns / n_games,\n",
    "            }\n",
    "    return pd.DataFrame(result).T\n",
    "\n",
    "print(\"Game simulation results:\")\n",
    "print(get_results())"
   ]
  },
  {
   "cell_type": "markdown",
   "id": "631e798e",
   "metadata": {},
   "source": [
    "## Сравнение стратегий"
   ]
  },
  {
   "cell_type": "code",
   "execution_count": 15,
   "id": "340e149e",
   "metadata": {},
   "outputs": [],
   "source": [
    "def compare_strategies(strat1, strat2, stop_at_7=True, n_games=1000):\n",
    "    df = []\n",
    "    for _ in range(n_games):\n",
    "        (s1,s2), _ = simulate_game(strat1,strat2,stop_at_7)\n",
    "        if s1 == s2:\n",
    "            continue\n",
    "        winner = 1 if s1>s2 else 0\n",
    "        df.append(winner)\n",
    "    wins = np.array(df)\n",
    "    n = len(wins)\n",
    "    count = np.sum(wins == 1)\n",
    "    stat, pval = proportions_ztest(count, n, value=0.5)\n",
    "    return stat, pval, count / n\n",
    "\n",
    "def run_tests(base, opponents):\n",
    "    results = {}\n",
    "    for name, opp in opponents.items():\n",
    "        for rule in 'stop_at_7', 'full_deck':\n",
    "            stop = (rule == 'stop_at_7')\n",
    "            stat, p, winrate = compare_strategies(base, opp, stop_at_7=stop)\n",
    "            results[(name, rule)] = {'z_stat':stat, 'p_value':p, 'win_rate':winrate}\n",
    "    return pd.DataFrame(results).T"
   ]
  },
  {
   "cell_type": "code",
   "execution_count": null,
   "id": "494f09f9",
   "metadata": {},
   "outputs": [
    {
     "name": "stdout",
     "output_type": "stream",
     "text": [
      "Hypothesis test results:\n",
      "                           z_stat       p_value  win_rate     result\n",
      "reverse       stop_at_7  7.183320  6.803854e-13  0.612371  Отвергаем\n",
      "              full_deck  5.111666  3.193298e-07  0.580060  Отвергаем\n",
      "swap_paired   stop_at_7  4.916140  8.826748e-07  0.578077  Отвергаем\n",
      "              full_deck  2.597678  9.385655e-03  0.541369  Отвергаем\n",
      "swap_unpaired stop_at_7  5.574779  2.478439e-08  0.588054  Отвергаем\n",
      "              full_deck  3.323728  8.882293e-04  0.552525  Отвергаем\n"
     ]
    }
   ],
   "source": [
    "if __name__ == '__main__':\n",
    "    random.seed(42)\n",
    "    base = generate_strategy()\n",
    "    opponents = {\n",
    "        'reverse': reverse_strategy(base),\n",
    "        'swap_paired': swap_paired_strategy(base),\n",
    "        'swap_unpaired': swap_unpaired_strategy(base)\n",
    "    }\n",
    "    tests = run_tests(base, opponents)\n",
    "    tests['result'] = tests['p_value'].apply(lambda x: 'Принимаем' if x >= 0.5 else 'Отвергаем')\n",
    "    print(\"Hypothesis test results:\")\n",
    "    print(tests)"
   ]
  }
 ],
 "metadata": {
  "kernelspec": {
   "display_name": "venv",
   "language": "python",
   "name": "python3"
  },
  "language_info": {
   "codemirror_mode": {
    "name": "ipython",
    "version": 3
   },
   "file_extension": ".py",
   "mimetype": "text/x-python",
   "name": "python",
   "nbconvert_exporter": "python",
   "pygments_lexer": "ipython3",
   "version": "3.13.3"
  }
 },
 "nbformat": 4,
 "nbformat_minor": 5
}
